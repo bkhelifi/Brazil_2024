{
 "cells": [
  {
   "cell_type": "markdown",
   "id": "7115f675-6da6-45bc-9967-d8c4921e6b50",
   "metadata": {},
   "source": [
    "# Spectral simulations with gammapy\n",
    "\n",
    "## Studying systematic effects on spectral parameters\n",
    "\n",
    "### Objective\n",
    "\n",
    "**Quantify the systematic errors on spectral parameters caused by a possible absolute energy scale bias using simulations.**\n",
    "\n",
    "### Steps\n",
    "\n",
    "* Create a fake observation of the Crab using CTA alpha configuration and build a 1D spectrum dataset for this observation\n",
    "* Fake multiple times a log-parabola source spectrum with ON-OFF statistic and fit it and to measure the statistcal uncertainty expected\n",
    "* Build a custom spectral model to take into account possible systematic bias in absolute energy scale\n",
    "* Perform simulations of the observation taking into account the systematic effect of the energy scale bias on the fitted spectral parameters. Measure the systematic uncertainty introduced.\n",
    "* Perform the same thing for an uncertainty of the alpha parameter "
   ]
  },
  {
   "cell_type": "code",
   "execution_count": null,
   "id": "bc1edab7-2615-449c-bb2c-0b5840d9ed44",
   "metadata": {},
   "outputs": [],
   "source": [
    "import numpy as np\n",
    "from astropy.coordinates import SkyCoord\n",
    "from astropy.table import Table\n",
    "import astropy.units as u\n",
    "from gammapy.data import Observation, observatory_locations, FixedPointingInfo, PointingMode\n",
    "from gammapy.irf import load_irf_dict_from_file\n",
    "from gammapy.maps import MapAxis, Map, RegionGeom\n",
    "from gammapy.datasets import SpectrumDataset, Datasets, SpectrumDatasetOnOff\n",
    "from gammapy.makers import SpectrumDatasetMaker, SafeMaskMaker\n",
    "from gammapy.modeling import Fit\n",
    "from gammapy.modeling.models import SkyModel, LogParabolaSpectralModel\n",
    "import matplotlib.pyplot as plt "
   ]
  },
  {
   "cell_type": "code",
   "execution_count": null,
   "id": "3fec8cfb-7aae-4a85-a9b3-737816a057bf",
   "metadata": {},
   "outputs": [],
   "source": [
    "irfs = load_irf_dict_from_file(\"$GAMMAPY_DATA/cta-caldb/Prod5-South-20deg-AverageAz-14MSTs37SSTs.180000s-v0.1.fits.gz\")"
   ]
  },
  {
   "cell_type": "markdown",
   "id": "8b491aa8-9f97-4ecb-9fef-9112fb001344",
   "metadata": {},
   "source": [
    "#### Define pointing positions\n",
    "\n",
    "Here we use a wobble position around the Crab."
   ]
  },
  {
   "cell_type": "code",
   "execution_count": null,
   "id": "83cd5d3f-b7c3-4be4-8d32-d40c7449fec8",
   "metadata": {},
   "outputs": [],
   "source": [
    "target = SkyCoord(83.6333, 22.0133, unit=\"deg\", frame=\"icrs\")\n",
    "\n",
    "pointing_position = target.directional_offset_by(90*u.deg, 1*u.deg)\n",
    "pointing = XX\n",
    "print(pointing)"
   ]
  },
  {
   "cell_type": "markdown",
   "id": "ae726bf1-6151-4188-b951-1edd4f7af2cc",
   "metadata": {},
   "source": [
    "We assume a 3 hours long observation (for simplicity we don't create a list of shorter runs)."
   ]
  },
  {
   "cell_type": "code",
   "execution_count": null,
   "id": "3605fdc3-adf7-478d-98c2-43fd8fa85f38",
   "metadata": {},
   "outputs": [],
   "source": [
    "livetime = 3 * u.h\n",
    "location = observatory_locations[\"cta_south\"]\n",
    "\n",
    "obs = XX"
   ]
  },
  {
   "cell_type": "code",
   "execution_count": null,
   "id": "7ecb0b3e-71e0-4d93-b4fb-b622e371a103",
   "metadata": {},
   "outputs": [],
   "source": [
    "print(obs)"
   ]
  },
  {
   "cell_type": "markdown",
   "id": "291bfe04-0dba-499c-a638-af32542bc0d3",
   "metadata": {},
   "source": [
    "#### Defining the reduced dataset geometry\n",
    "\n",
    "We prepare the 1D spectra geometry. We need to provide the binning in reco and true energy, for the counts, counts_off and the IRFs.\n",
    "\n",
    "We take a region of 0.1 degree around the Crab nebula"
   ]
  },
  {
   "cell_type": "code",
   "execution_count": null,
   "id": "484a510f-c46a-4cc9-9d34-d1aebdb8ce7a",
   "metadata": {},
   "outputs": [],
   "source": [
    "energy = MapAxis.from_energy_bounds(0.05, 100, 5, unit='TeV', per_decade=True)\n",
    "energy_true = XX\n",
    "\n",
    "geom = RegionGeom.create(\"icrs;circle(83.633, 22.014, 0.1)\", axes=[energy])"
   ]
  },
  {
   "cell_type": "code",
   "execution_count": null,
   "id": "f830f3a9-4a15-45d6-aa6c-2df88a0e8c75",
   "metadata": {},
   "outputs": [],
   "source": [
    "reference_dataset = XX"
   ]
  },
  {
   "cell_type": "markdown",
   "id": "0eebe0ef-008f-444a-973c-758729f86bee",
   "metadata": {},
   "source": [
    "#### Instantiate the data reduction Makers\n",
    "- SpectrumDatasetMaker projects the events and IRF in the correct geometry. Here we require that PSF leakage is to be corrected.\n",
    "- We don't create a background maker since there is no counts information to rely on here. We are just interested in getting the expected background in the ON region.\n",
    "- The SafeMaskMaker will create a boolean mask stored on the Dataset to deal with the safe energy range. Here we impose that the energy bias be less than 10%. \n"
   ]
  },
  {
   "cell_type": "code",
   "execution_count": null,
   "id": "3e3ee42e-fc28-49fc-83c0-ddc340fa54ab",
   "metadata": {},
   "outputs": [],
   "source": [
    "maker = XXX\n",
    "safe_mask_maker = XXX"
   ]
  },
  {
   "cell_type": "markdown",
   "id": "e2e3e697-b70f-48d6-b37d-c0a343324d26",
   "metadata": {},
   "source": [
    "#### Data reduction \n",
    "Now we can perform the data reduction to create the reference `Dataset`. "
   ]
  },
  {
   "cell_type": "code",
   "execution_count": null,
   "id": "144d2b7a-802f-49ce-ba54-5d1d52390d98",
   "metadata": {},
   "outputs": [],
   "source": [
    "reference_dataset = XXX\n",
    "reference_dataset = XXX"
   ]
  },
  {
   "cell_type": "markdown",
   "id": "f30f2152-b540-4cad-86ef-980781866d52",
   "metadata": {},
   "source": [
    "As expected the reference dataset contains only the number of expected background counts but no signal."
   ]
  },
  {
   "cell_type": "code",
   "execution_count": null,
   "id": "b5126e73-ecdd-4e19-a326-9372f08be7a5",
   "metadata": {},
   "outputs": [],
   "source": [
    "reference_dataset.peek();"
   ]
  },
  {
   "cell_type": "markdown",
   "id": "b3e63fa3-2439-427a-bbd0-c16e83010541",
   "metadata": {},
   "source": [
    "#### Model definition\n",
    "\n",
    "Source models in gammapy are `SkyModel`. They are usually the combination of a `SpectralModel`, a `SpatialModel` and possibly a `TemporalModel`.\n",
    "\n",
    "Here we only need a `SpectralModel`. It is the only mandatory component."
   ]
  },
  {
   "cell_type": "code",
   "execution_count": null,
   "id": "b5657bc5-bb79-4a4b-b9dc-dcd0d0dba103",
   "metadata": {},
   "outputs": [],
   "source": [
    "spectral_model = LogParabolaSpectralModel(\n",
    "        alpha=2.5,\n",
    "        beta=0.25, \n",
    "        amplitude=\"3.8e-11 cm-2s-1TeV-1\",\n",
    "        reference=\"1 TeV\",\n",
    "    )\n",
    "\n",
    "model = XXX"
   ]
  },
  {
   "cell_type": "code",
   "execution_count": null,
   "id": "05675890-1149-4592-a8ed-b51da66f00b3",
   "metadata": {},
   "outputs": [],
   "source": [
    "reference_dataset.models = XXX"
   ]
  },
  {
   "cell_type": "markdown",
   "id": "6ac9607f-d73c-4ba4-9457-c1bda9fe7b84",
   "metadata": {},
   "source": [
    "#### Create ON-OFF datasets\n",
    "\n",
    "Since background maker was applied the datasets are regular datasets: i.e. they contain a background model but no acceptance ON and OFF nor OFF counts. \n",
    "\n",
    "We have therefore to convert them to the proper format adding the required information. The OFF counts will be simulted later.\n",
    "\n",
    "#### Create acceptance vectors\n",
    "\n",
    "we assume energy independent alpha_onoff=1/10: "
   ]
  },
  {
   "cell_type": "code",
   "execution_count": null,
   "id": "5260724d-d13b-439c-991d-fb26ebefe360",
   "metadata": {},
   "outputs": [],
   "source": [
    "acceptance = Map.from_geom(geom, data=1, unit=\"\")\n",
    "acceptance_off = XXX"
   ]
  },
  {
   "cell_type": "markdown",
   "id": "62b3359c-8b74-4aed-bda5-4cfcd490415e",
   "metadata": {},
   "source": [
    "#### Fake counts\n",
    "\n",
    "Here we create the ON-OFF datasets and fake their content.\n",
    "\n",
    "We perform a large number of simulations to explore the disctribution of fitted parameters.\n",
    "\n",
    "\n",
    "Have a look on the documentation to create a SpectrumDatasetOnOff from a SpectrumDataset (called here \"reference_dataset\") with the function `SpectrumDatasetOnOff.from_spectrum_dataset`.\n"
   ]
  },
  {
   "cell_type": "code",
   "execution_count": null,
   "id": "e82ee6c3-4e2f-491b-8b6b-6827fc12d89f",
   "metadata": {},
   "outputs": [],
   "source": [
    "%%time\n",
    "n_sim = 100\n",
    "simulated_datasets = []\n",
    "\n",
    "for i in range(n_sim):\n",
    "    dataset_on_off = SpectrumDatasetOnOff.from_spectrum_dataset( XXX )\n",
    "    dataset_on_off.fake( XXX )\n",
    "    simulated_datasets.append(dataset_on_off)"
   ]
  },
  {
   "cell_type": "markdown",
   "id": "63edc2b1-014f-4e53-a7a1-85bd3e9ef8b8",
   "metadata": {},
   "source": [
    "#### Perform the fit\n",
    "\n",
    "Here we fit a log parabola on the data and explore the distribution of parameters"
   ]
  },
  {
   "cell_type": "code",
   "execution_count": null,
   "id": "cc3134a7-c294-43a0-ab0c-74cd131cf0d3",
   "metadata": {},
   "outputs": [],
   "source": [
    "%%time\n",
    "\n",
    "results = []\n",
    "fit = Fit()\n",
    "for dataset in simulated_datasets:\n",
    "    XXXX\n"
   ]
  },
  {
   "cell_type": "markdown",
   "id": "d2cf941f-8c8f-42c1-8b26-9f947e8794ed",
   "metadata": {},
   "source": [
    "We convert the list of dictionnaries into an astropy `Table`."
   ]
  },
  {
   "cell_type": "code",
   "execution_count": null,
   "id": "07009da9-ce48-4f5e-bfe4-330eb08fc030",
   "metadata": {},
   "outputs": [],
   "source": [
    "fitted_params = Table(results).to_pandas()"
   ]
  },
  {
   "cell_type": "markdown",
   "id": "b385f085-3114-4dc9-8b9e-d7dd5592a0fe",
   "metadata": {},
   "source": [
    "We compute the statistical errors from the distribution of the MC realizations."
   ]
  },
  {
   "cell_type": "code",
   "execution_count": null,
   "id": "7394a9b9-d0ea-40fc-8a16-f3ac22a04886",
   "metadata": {},
   "outputs": [],
   "source": [
    "mean = fitted_params.mean()\n",
    "uncertainty = fitted_params.std()"
   ]
  },
  {
   "cell_type": "code",
   "execution_count": null,
   "id": "fc0191c5-77c6-4e68-adb1-76718e9faad5",
   "metadata": {},
   "outputs": [],
   "source": [
    "for name in ['amplitude', 'alpha', 'beta']:\n",
    "    print(f\"{name} :\\t {mean[name]:.2e} -+ {uncertainty[name]:.2e}\")"
   ]
  },
  {
   "cell_type": "markdown",
   "id": "09d4d082-63f5-4168-9948-540b7bb4b2df",
   "metadata": {},
   "source": [
    "#### Looking at the simulation results\n",
    "\n",
    "We can use the corner package to represent the fitted parameters correlations."
   ]
  },
  {
   "cell_type": "code",
   "execution_count": null,
   "id": "9e9e4c99-6c1e-456b-b83e-a278226311d8",
   "metadata": {},
   "outputs": [],
   "source": [
    "import corner\n",
    "\n",
    "fitted_params['amplitude'] *= 1e11\n",
    "\n",
    "figure = corner.corner(fitted_params,quantiles=[0.16, 0.5, 0.84],\n",
    "              show_titles=True, title_kwargs={\"fontsize\": 12})"
   ]
  },
  {
   "cell_type": "markdown",
   "id": "806c1bd2-ea7b-400d-a3cb-4cdfd5f1b5c5",
   "metadata": {},
   "source": [
    "## Second exercise: Exploring systematic effects: energy scale bias\n",
    "\n",
    "#### Creating a biased log-parabola model\n",
    "\n",
    "A systematic bias in the energy reconstruction that is not accounted for by the energy dispersion could have a significant impact of the fitted spectral parameters of the Crab nebula.\n",
    "\n",
    "We propose to explore this idea in the code below.\n",
    "\n",
    "We first use the possibility offered by gammapy to create a custom model to add a log parabola model with a systematic constant energy bias. This bias will come in addition to the one stored in the `edisp` and quantified by the shower simulations."
   ]
  },
  {
   "cell_type": "code",
   "execution_count": null,
   "id": "ff52dc11-27ba-4083-a442-61f57edb2bf9",
   "metadata": {},
   "outputs": [],
   "source": [
    "from gammapy.modeling import Parameter\n",
    "from gammapy.modeling.models import SpectralModel, LogParabolaSpectralModel\n",
    "\n",
    "class BiasedLogParabolaSpectralModel(SpectralModel):\n",
    "    tag = \"BiasedLogParabolaSpectralModel\"\n",
    "    amplitude = Parameter(\"amplitude\", \"1e-12 cm-2 s-1 TeV-1\", min=0, is_norm=True)\n",
    "    alpha = Parameter(\"alpha\", 2.5, min=0)\n",
    "    beta = Parameter(\"beta\", 0.5)\n",
    "    reference = Parameter(\"reference\", \"1 TeV\", frozen=True)\n",
    "    bias = Parameter(\"bias\", 1, min=0)\n",
    "        \n",
    "    @staticmethod\n",
    "    def evaluate(energy, amplitude, alpha, beta, reference, bias):\n",
    "        energy = bias.value * energy\n",
    "        logpwl = LogParabolaSpectralModel.evaluate(\n",
    "            energy=energy,\n",
    "            alpha=alpha,\n",
    "            beta=beta,\n",
    "            amplitude=amplitude,\n",
    "            reference=reference,\n",
    "        )\n",
    "        return logpwl"
   ]
  },
  {
   "cell_type": "markdown",
   "id": "b7420cf9-fdfc-4a9a-805a-9fec908ce82f",
   "metadata": {},
   "source": [
    "We can look at the resulting spectra. Obviously the impact on the amplitude is very significant."
   ]
  },
  {
   "cell_type": "code",
   "execution_count": null,
   "id": "866336fe-c2d7-47d4-84f7-08c7eb48a955",
   "metadata": {},
   "outputs": [],
   "source": [
    "biased_spectral_model = BiasedLogParabolaSpectralModel()\n",
    "biased_spectral_model.bias.value=0.9\n",
    "ax = biased_spectral_model.plot([0.01,40]*u.TeV, energy_power=2)\n",
    "biased_spectral_model.bias.value=1.1\n",
    "biased_spectral_model.plot([0.01,40]*u.TeV, energy_power=2, ax=ax)\n",
    "biased_spectral_model.bias.value=1.0\n",
    "biased_spectral_model.plot([0.01,40]*u.TeV, energy_power=2, ax=ax);"
   ]
  },
  {
   "cell_type": "code",
   "execution_count": null,
   "id": "bf5e1da1-5f66-4926-aca8-6184a7603bf1",
   "metadata": {},
   "outputs": [],
   "source": [
    "biased_spectral_model = BiasedLogParabolaSpectralModel()\n",
    "\n",
    "biased_spectral_model.alpha.value = spectral_model.alpha.value\n",
    "biased_spectral_model.beta.value = spectral_model.beta.value\n",
    "biased_spectral_model.amplitude.value = spectral_model.amplitude.value"
   ]
  },
  {
   "cell_type": "code",
   "execution_count": null,
   "id": "1079ad97-bc89-4615-ad9a-b65c4b0645bd",
   "metadata": {},
   "outputs": [],
   "source": [
    "biased_model = SkyModel(spectral_model=biased_spectral_model, name=\"biased_crab\")"
   ]
  },
  {
   "cell_type": "markdown",
   "id": "fea4a056-f585-42be-a564-321b5c4e50a4",
   "metadata": {},
   "source": [
    "#### Fake counts taking bias into account\n",
    "\n",
    "Here we use the biased model and randomize the bias values. We then create the ON-OFF datasets and fake their content.\n",
    "\n",
    "We assume a typical uncertainty on the energy scale of 3 percent."
   ]
  },
  {
   "cell_type": "code",
   "execution_count": null,
   "id": "1160eeda-51f7-4135-a5e7-184a5145bc46",
   "metadata": {},
   "outputs": [],
   "source": [
    "%%time\n",
    "simulated_biased_datasets = []\n",
    "\n",
    "for i in range(n_sim):\n",
    "    XXX"
   ]
  },
  {
   "cell_type": "markdown",
   "id": "2407288e-c1f8-4fff-8dbf-7f0821868566",
   "metadata": {},
   "source": [
    "#### Perform the fit\n",
    "\n",
    "Here we fit a log parabola without a bias on the data and explore the distribution of parameters"
   ]
  },
  {
   "cell_type": "code",
   "execution_count": null,
   "id": "541338e4-f2d9-4362-8663-a2a71609111e",
   "metadata": {},
   "outputs": [],
   "source": [
    "%%time\n",
    "\n",
    "results_biased = []\n",
    "fit = Fit()\n",
    "for dataset in simulated_biased_datasets:\n",
    "    XXX"
   ]
  },
  {
   "cell_type": "code",
   "execution_count": null,
   "id": "208e4d5b-84c9-42c0-aeec-eac02fcbff30",
   "metadata": {},
   "outputs": [],
   "source": [
    "fitted_params_with_energy_bias = Table(results_biased).to_pandas()"
   ]
  },
  {
   "cell_type": "code",
   "execution_count": null,
   "id": "1487f553-cc02-4f04-8acd-fbe06e603963",
   "metadata": {},
   "outputs": [],
   "source": [
    "total_mean = fitted_params_with_energy_bias.mean()\n",
    "total_uncertainty = fitted_params_with_energy_bias.std()"
   ]
  },
  {
   "cell_type": "code",
   "execution_count": null,
   "id": "1c2dbfd3-430c-46aa-82c2-1435de12aa11",
   "metadata": {},
   "outputs": [],
   "source": [
    "for name in ['amplitude', 'alpha', 'beta']:\n",
    "    print(f\"{name} :\\t {total_mean[name]:.2e} -+ {total_uncertainty[name]:.2e}\")"
   ]
  },
  {
   "cell_type": "markdown",
   "id": "03d995fd-3866-4451-a00c-da8b820cf7a7",
   "metadata": {},
   "source": [
    "To separate statistics from systematics we assume the toatl uncertainty is the quadratic sum of statistic and systematic errors."
   ]
  },
  {
   "cell_type": "code",
   "execution_count": null,
   "id": "85b63e6f-d564-487a-a467-d75d78d4545b",
   "metadata": {},
   "outputs": [],
   "source": [
    "systematic_uncertainty = np.sqrt(total_uncertainty**2 - uncertainty**2)"
   ]
  },
  {
   "cell_type": "code",
   "execution_count": null,
   "id": "8884e315-60a2-4a00-866e-55da92009a81",
   "metadata": {},
   "outputs": [],
   "source": [
    "for name in ['amplitude', 'alpha', 'beta']:\n",
    "    print(f\"{name} :\\t {total_mean[name]:.2e} -+\\t\"\n",
    "          f\" {uncertainty[name]:.2e} (stat) -+\\t\"\n",
    "          f\" {systematic_uncertainty[name]:.2e} (sys)\")"
   ]
  },
  {
   "cell_type": "markdown",
   "id": "790f5e72-653d-4bbd-8ae4-b820ccd5f9c2",
   "metadata": {},
   "source": [
    "## Third exercise: Exploring systematic effects by adding uncertainty of alpha_onoff (ratio of ON/OFF acceptance)\n",
    "\n",
    "#### Simulated data with an additional bias of alpha_onoff\n",
    "\n",
    "A systematic bias in the estimation of alpha_onoff can also occur. \n",
    "In the following we will assume that the ON acceptance is uncertain by a factor of 5%.\n"
   ]
  },
  {
   "cell_type": "code",
   "execution_count": null,
   "id": "411aa6ef-5ac4-47f0-987a-68e80f74727a",
   "metadata": {},
   "outputs": [],
   "source": [
    "%%time\n",
    "simulated_biased_datasets = []\n",
    "\n",
    "for i in range(n_sim):\n",
    "    XXX"
   ]
  },
  {
   "cell_type": "code",
   "execution_count": null,
   "id": "2fb2d7f9-59ba-4fb7-88d4-2bc29bcfa692",
   "metadata": {},
   "outputs": [],
   "source": [
    "%%time\n",
    "\n",
    "results_biased = []\n",
    "fit = Fit()\n",
    "for dataset in simulated_biased_datasets:\n",
    "    XXX"
   ]
  },
  {
   "cell_type": "code",
   "execution_count": null,
   "id": "a47ddd28-fa38-4c8d-a697-aa9eb465e9da",
   "metadata": {},
   "outputs": [],
   "source": [
    "fitted_params_with_alpha_bias = Table(results_biased).to_pandas()\n",
    "total_mean = fitted_params_with_alpha_bias.mean()\n",
    "total_uncertainty = fitted_params_with_alpha_bias.std()"
   ]
  },
  {
   "cell_type": "code",
   "execution_count": null,
   "id": "49dd3e7e-663a-4ca4-a7b7-10ca2d4836d3",
   "metadata": {},
   "outputs": [],
   "source": [
    "for name in ['amplitude', 'alpha', 'beta']:\n",
    "    print(f\"{name} :\\t {total_mean[name]:.2e} -+ {total_uncertainty[name]:.2e}\")"
   ]
  },
  {
   "cell_type": "code",
   "execution_count": null,
   "id": "25d3614a-25b7-4f09-82a1-2bd66866e9ad",
   "metadata": {},
   "outputs": [],
   "source": [
    "systematic_uncertainty = np.sqrt(total_uncertainty**2 - uncertainty**2)"
   ]
  },
  {
   "cell_type": "code",
   "execution_count": null,
   "id": "c2ea8913-2a35-4e05-88ef-97f00a1d10ad",
   "metadata": {},
   "outputs": [],
   "source": [
    "for name in ['amplitude', 'alpha', 'beta']:\n",
    "    print(f\"{name} :\\t {total_mean[name]:.2e} -+\\t\"\n",
    "          f\" {uncertainty[name]:.2e} (stat) -+\\t\"\n",
    "          f\" {systematic_uncertainty[name]:.2e} (sys)\")"
   ]
  },
  {
   "cell_type": "markdown",
   "id": "c8e8bede-c9a5-4571-8f6b-f613da95c0d4",
   "metadata": {},
   "source": [
    "## Going further\n",
    "\n",
    "- Plot the average fitted spectrum with the butterflies of errors\n",
    "- Combine the two effects. Notice that the fitted parameters become biased.\n",
    "- Introduce an uncertainty on the effective area by adding an uncertainty on the spectral index and amplitude of the simulated source (e.g. by multplying it by a PowerLawNormSpectralModel)"
   ]
  },
  {
   "cell_type": "code",
   "execution_count": null,
   "id": "7b31de2f-65d6-44da-b935-53a2184792db",
   "metadata": {},
   "outputs": [],
   "source": []
  }
 ],
 "metadata": {
  "kernelspec": {
   "display_name": "Python (gammapy-1.1)",
   "language": "python",
   "name": "gammapy-1.1"
  },
  "language_info": {
   "codemirror_mode": {
    "name": "ipython",
    "version": 3
   },
   "file_extension": ".py",
   "mimetype": "text/x-python",
   "name": "python",
   "nbconvert_exporter": "python",
   "pygments_lexer": "ipython3",
   "version": "3.9.18"
  }
 },
 "nbformat": 4,
 "nbformat_minor": 5
}
